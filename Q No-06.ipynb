{
 "cells": [
  {
   "cell_type": "markdown",
   "id": "506da298-7c75-4c80-8db3-4a80e0864916",
   "metadata": {},
   "source": [
    "Q.What is a complex number in mathematics, and how is it represented in Python?"
   ]
  },
  {
   "cell_type": "markdown",
   "id": "7a5c43b5-b42f-4f80-ae7a-2413f510aa2b",
   "metadata": {},
   "source": [
    "Ans:"
   ]
  },
  {
   "cell_type": "markdown",
   "id": "601246ab-e090-48fd-8088-f944245655b1",
   "metadata": {},
   "source": [
    "Complex numbers are the numbers that are expressed in the form of a+ib where, a,b are real numbers and 'i' is an imaginary number called “iota”. "
   ]
  },
  {
   "cell_type": "markdown",
   "id": "9e1065b4-b4fc-4405-ade9-f5cfe91a6482",
   "metadata": {},
   "source": [
    "The value of i = (√-1)."
   ]
  },
  {
   "cell_type": "markdown",
   "id": "bbd04db3-0d38-4636-be42-06a9a2302a27",
   "metadata": {},
   "source": [
    "For example -"
   ]
  },
  {
   "cell_type": "markdown",
   "id": "c3fe1b45-68b6-4cc1-910c-bae8e250f4c2",
   "metadata": {},
   "source": [
    "2+3i is a complex number,\n",
    "where 2 is a real number (Re) and 3i is an imaginary number (Im)."
   ]
  },
  {
   "cell_type": "markdown",
   "id": "be007064-daed-40f1-b672-8c1461cb474f",
   "metadata": {},
   "source": [
    "Whereas in python complex data is represented by \"j\""
   ]
  },
  {
   "cell_type": "markdown",
   "id": "fb1bfc89-3678-47d4-aeea-a55b1329a6ab",
   "metadata": {},
   "source": [
    "For example -"
   ]
  },
  {
   "cell_type": "code",
   "execution_count": 3,
   "id": "53e5644b-7ccc-4d4b-8993-e803bd2be946",
   "metadata": {},
   "outputs": [],
   "source": [
    "a=7j"
   ]
  },
  {
   "cell_type": "markdown",
   "id": "4e97e129-d785-4c16-bc7f-6cdf1b83b6cd",
   "metadata": {},
   "source": [
    "Here, 7j is a complex data"
   ]
  },
  {
   "cell_type": "code",
   "execution_count": 4,
   "id": "7e9a2123-9c9c-4bff-b4be-9ef9f0c0518a",
   "metadata": {},
   "outputs": [
    {
     "data": {
      "text/plain": [
       "complex"
      ]
     },
     "execution_count": 4,
     "metadata": {},
     "output_type": "execute_result"
    }
   ],
   "source": [
    "type(a)"
   ]
  }
 ],
 "metadata": {
  "kernelspec": {
   "display_name": "Python 3 (ipykernel)",
   "language": "python",
   "name": "python3"
  },
  "language_info": {
   "codemirror_mode": {
    "name": "ipython",
    "version": 3
   },
   "file_extension": ".py",
   "mimetype": "text/x-python",
   "name": "python",
   "nbconvert_exporter": "python",
   "pygments_lexer": "ipython3",
   "version": "3.10.8"
  }
 },
 "nbformat": 4,
 "nbformat_minor": 5
}
