{
 "cells": [
  {
   "cell_type": "markdown",
   "id": "7a5ca211-26a7-425a-a83c-b939fd18fa80",
   "metadata": {},
   "source": [
    "Q. How do you convert one data type to another in Python?"
   ]
  },
  {
   "cell_type": "markdown",
   "id": "e1341d3e-6c5e-452b-90d2-18c45dc0534b",
   "metadata": {},
   "source": [
    "Ans:"
   ]
  },
  {
   "cell_type": "code",
   "execution_count": 1,
   "id": "e94d1166-e895-4875-aa1e-1de51675ab34",
   "metadata": {},
   "outputs": [
    {
     "name": "stdout",
     "output_type": "stream",
     "text": [
      "4.0\n",
      "Here a is int, after this it is converted into float\n",
      "(4+0j)\n",
      "Here a is int, after this it is converted into complex\n"
     ]
    }
   ],
   "source": [
    "a=4 #int\n",
    "x=print(float(a)) \n",
    "print(\"Here a is int, after this it is converted into float\")\n",
    "y=print(complex(a))\n",
    "print(\"Here a is int, after this it is converted into complex\")"
   ]
  },
  {
   "cell_type": "code",
   "execution_count": null,
   "id": "b55d9895-44e6-465e-b61e-df0dfac4c237",
   "metadata": {},
   "outputs": [],
   "source": []
  }
 ],
 "metadata": {
  "kernelspec": {
   "display_name": "Python 3 (ipykernel)",
   "language": "python",
   "name": "python3"
  },
  "language_info": {
   "codemirror_mode": {
    "name": "ipython",
    "version": 3
   },
   "file_extension": ".py",
   "mimetype": "text/x-python",
   "name": "python",
   "nbconvert_exporter": "python",
   "pygments_lexer": "ipython3",
   "version": "3.10.8"
  }
 },
 "nbformat": 4,
 "nbformat_minor": 5
}
