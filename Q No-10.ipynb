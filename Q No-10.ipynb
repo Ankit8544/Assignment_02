{
 "cells": [
  {
   "cell_type": "markdown",
   "id": "8e1cd8e6-d04c-4b44-9c40-479ff1cb5a16",
   "metadata": {},
   "source": [
    "Q. Given the string \"Hello, World!\", extract the substring \"World\"."
   ]
  },
  {
   "cell_type": "markdown",
   "id": "ce5e7925-2133-4919-96e2-b054ad70b46a",
   "metadata": {},
   "source": [
    "Ans:"
   ]
  },
  {
   "cell_type": "markdown",
   "id": "432bde01-9268-4eb7-8881-879ad94f602c",
   "metadata": {},
   "source": [
    "Firstly we have to assign the string value to any variable"
   ]
  },
  {
   "cell_type": "code",
   "execution_count": 2,
   "id": "0e652c37-2753-4c18-8aed-c6815c5dad14",
   "metadata": {},
   "outputs": [],
   "source": [
    "x = \"Hello, World!\""
   ]
  },
  {
   "cell_type": "code",
   "execution_count": 3,
   "id": "a679dc43-755b-4352-95ad-c5e22d694c75",
   "metadata": {},
   "outputs": [
    {
     "data": {
      "text/plain": [
       "'World'"
      ]
     },
     "execution_count": 3,
     "metadata": {},
     "output_type": "execute_result"
    }
   ],
   "source": [
    "x[7:12]"
   ]
  },
  {
   "cell_type": "code",
   "execution_count": null,
   "id": "4f45aaf3-30c7-4668-91fe-d2158b592167",
   "metadata": {},
   "outputs": [],
   "source": []
  }
 ],
 "metadata": {
  "kernelspec": {
   "display_name": "Python 3 (ipykernel)",
   "language": "python",
   "name": "python3"
  },
  "language_info": {
   "codemirror_mode": {
    "name": "ipython",
    "version": 3
   },
   "file_extension": ".py",
   "mimetype": "text/x-python",
   "name": "python",
   "nbconvert_exporter": "python",
   "pygments_lexer": "ipython3",
   "version": "3.10.8"
  }
 },
 "nbformat": 4,
 "nbformat_minor": 5
}
