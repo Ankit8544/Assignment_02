{
 "cells": [
  {
   "cell_type": "markdown",
   "id": "4d26e3e8-9b3c-4293-981e-e26884f2722b",
   "metadata": {},
   "source": [
    "Q. What are variables in Python? How do you declare and assign values to variables?"
   ]
  },
  {
   "cell_type": "markdown",
   "id": "c4ad812e-c14c-4fbc-b23f-f0ee1ee1cc18",
   "metadata": {},
   "source": [
    "Ans: Variables are containers for storing data values."
   ]
  },
  {
   "cell_type": "markdown",
   "id": "210e6cbb-b476-4be4-b8dc-a88a2a3a0deb",
   "metadata": {},
   "source": [
    "Declaretion of Variable:-"
   ]
  },
  {
   "cell_type": "code",
   "execution_count": 2,
   "id": "4297cfff-65da-4ea3-be8e-79932a2ec22b",
   "metadata": {},
   "outputs": [],
   "source": [
    "x = 5 #Here x is a varianle\n",
    "y = \"John\" #Here y is a variable"
   ]
  },
  {
   "cell_type": "markdown",
   "id": "c539b75e-1045-4f8a-8ddd-8776276650d8",
   "metadata": {},
   "source": [
    " Assign values to Variables:-"
   ]
  },
  {
   "cell_type": "code",
   "execution_count": 4,
   "id": "8c349ba4-68c2-4c29-948b-30603a6675e0",
   "metadata": {},
   "outputs": [
    {
     "name": "stdout",
     "output_type": "stream",
     "text": [
      "5\n",
      "Here 5 is an assign value of variable x\n",
      "John\n",
      "Here John is an assign value of variable y\n"
     ]
    }
   ],
   "source": [
    "x = 5 \n",
    "print(x) \n",
    "print(f\"Here {x} is an assign value of variable x\")\n",
    "y = \"John\" \n",
    "print(y) \n",
    "print(f\"Here {y} is an assign value of variable y\")"
   ]
  },
  {
   "cell_type": "code",
   "execution_count": null,
   "id": "82c8c9af-ef00-45d4-96cc-0d8a821022b4",
   "metadata": {},
   "outputs": [],
   "source": []
  }
 ],
 "metadata": {
  "kernelspec": {
   "display_name": "Python 3 (ipykernel)",
   "language": "python",
   "name": "python3"
  },
  "language_info": {
   "codemirror_mode": {
    "name": "ipython",
    "version": 3
   },
   "file_extension": ".py",
   "mimetype": "text/x-python",
   "name": "python",
   "nbconvert_exporter": "python",
   "pygments_lexer": "ipython3",
   "version": "3.10.8"
  }
 },
 "nbformat": 4,
 "nbformat_minor": 5
}
