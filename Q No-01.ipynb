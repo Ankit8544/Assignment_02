{
 "cells": [
  {
   "cell_type": "markdown",
   "id": "8be51c47-35ac-4517-9b16-3d84befaeba1",
   "metadata": {},
   "source": [
    "Q. How do you comment code in Python? What are the different types of comments?"
   ]
  },
  {
   "cell_type": "markdown",
   "id": "d1650e94-f7a4-4945-8fe4-5c87527890ad",
   "metadata": {},
   "source": [
    "Ans: Comments in Python is the inclusion of short descriptions along with the code to increase its readability.\n",
    "     A developer uses them to write his or her thought process while writing the code. \n",
    "     It explains the basic logic behind why a particular line of code was written.\n",
    "     They are just meant for the coders themselves or other developers to understand a piece of code, \n",
    "     especially since the Python interpreter completely ignores comments in Python."
   ]
  },
  {
   "cell_type": "markdown",
   "id": "b5d9ea66-a742-4532-a76f-0774545a5b98",
   "metadata": {},
   "source": [
    "Types of Comment :-"
   ]
  },
  {
   "cell_type": "markdown",
   "id": "b844afa7-516f-4959-931a-10f0b6d9f6a2",
   "metadata": {},
   "source": [
    "1. Single Line Comments -"
   ]
  },
  {
   "cell_type": "code",
   "execution_count": 5,
   "id": "331f2fa7-f098-40e4-92fb-3b1e1c1327af",
   "metadata": {},
   "outputs": [
    {
     "name": "stdout",
     "output_type": "stream",
     "text": [
      "10\n",
      "-6\n",
      "16\n",
      "4.0\n"
     ]
    }
   ],
   "source": [
    "a=8\n",
    "b=2\n",
    "\n",
    "#Add(+)\n",
    "w= a+b\n",
    "print(w)\n",
    "\n",
    "#Sub(-)\n",
    "x= b-a\n",
    "print(x)\n",
    "\n",
    "#Mul(*)\n",
    "y= a*b\n",
    "print(y)\n",
    "\n",
    "#Div(/)\n",
    "z= a/b\n",
    "print(z)"
   ]
  },
  {
   "cell_type": "markdown",
   "id": "a14dfe7e-1e5f-48d5-ab24-8bd01e005764",
   "metadata": {},
   "source": [
    "2. Multi Line Comments-"
   ]
  },
  {
   "cell_type": "code",
   "execution_count": 2,
   "id": "e4b1cb63-fe66-4812-a0f5-a564d8aed1d0",
   "metadata": {},
   "outputs": [
    {
     "name": "stdout",
     "output_type": "stream",
     "text": [
      "Hello, World!\n"
     ]
    }
   ],
   "source": [
    "#This is a comment\n",
    "#written in\n",
    "#more than just one line\n",
    "print(\"Hello, World!\")"
   ]
  },
  {
   "cell_type": "markdown",
   "id": "c57057f3-03fb-4b89-bc6c-47e83e86c28a",
   "metadata": {},
   "source": [
    "Since Python will ignore string literals that are not assigned to a variable, you can add a multiline string (triple quotes) in your code, and place your comment inside it:"
   ]
  },
  {
   "cell_type": "code",
   "execution_count": 3,
   "id": "ae58fe58-d3ce-4646-a50d-e397174b32fe",
   "metadata": {},
   "outputs": [
    {
     "name": "stdout",
     "output_type": "stream",
     "text": [
      "Hello, World!\n"
     ]
    }
   ],
   "source": [
    "\"\"\"\n",
    "This is a comment\n",
    "written in \n",
    "more than just one line\n",
    "\"\"\"\n",
    "print(\"Hello, World!\") "
   ]
  },
  {
   "cell_type": "markdown",
   "id": "f06baece-b274-42fa-a052-68fc7d955d9f",
   "metadata": {},
   "source": [
    "OR"
   ]
  },
  {
   "cell_type": "code",
   "execution_count": 4,
   "id": "cd1cb75d-f43f-4357-b349-ffc4453be5df",
   "metadata": {},
   "outputs": [
    {
     "name": "stdout",
     "output_type": "stream",
     "text": [
      "Hello, World!\n"
     ]
    }
   ],
   "source": [
    "'''\n",
    "This is a comment\n",
    "written in \n",
    "more than just one line\n",
    "'''\n",
    "print(\"Hello, World!\") "
   ]
  },
  {
   "cell_type": "code",
   "execution_count": null,
   "id": "b02ede33-43a9-4b15-afc0-8f62f8cc8f92",
   "metadata": {},
   "outputs": [],
   "source": []
  }
 ],
 "metadata": {
  "kernelspec": {
   "display_name": "Python 3 (ipykernel)",
   "language": "python",
   "name": "python3"
  },
  "language_info": {
   "codemirror_mode": {
    "name": "ipython",
    "version": 3
   },
   "file_extension": ".py",
   "mimetype": "text/x-python",
   "name": "python",
   "nbconvert_exporter": "python",
   "pygments_lexer": "ipython3",
   "version": "3.10.8"
  }
 },
 "nbformat": 4,
 "nbformat_minor": 5
}
