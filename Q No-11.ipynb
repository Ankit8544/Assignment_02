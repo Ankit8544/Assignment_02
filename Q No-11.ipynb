{
 "cells": [
  {
   "cell_type": "markdown",
   "id": "ce6e0052-a0f3-4136-82bd-131f017e4c6d",
   "metadata": {},
   "source": [
    "Q. Create a variable named \"is_student\" and assign it a boolean value indicating whether you are\n",
    "currently a student or not."
   ]
  },
  {
   "cell_type": "markdown",
   "id": "101bf697-803f-49ea-a42b-6be79b71ba43",
   "metadata": {},
   "source": [
    "Ans:"
   ]
  },
  {
   "cell_type": "markdown",
   "id": "831e3b65-bf8c-438b-891a-c7854eca17c3",
   "metadata": {},
   "source": [
    "If you are currently a student, you can assign the value True to the variable."
   ]
  },
  {
   "cell_type": "code",
   "execution_count": 1,
   "id": "b706fa49-26c2-429f-864c-f69f9269b2ca",
   "metadata": {},
   "outputs": [],
   "source": [
    "is_student = True"
   ]
  },
  {
   "cell_type": "markdown",
   "id": "ec56e93d-adcd-4f84-acc5-077586258095",
   "metadata": {},
   "source": [
    "If you are not a student, you can assign the value False to the variable."
   ]
  },
  {
   "cell_type": "code",
   "execution_count": 3,
   "id": "3df076f5-ce9f-478d-adfa-d4db8f133f3d",
   "metadata": {},
   "outputs": [],
   "source": [
    "is_student = False"
   ]
  },
  {
   "cell_type": "code",
   "execution_count": null,
   "id": "52fc1a55-ede1-44ae-ae91-3e215841ce30",
   "metadata": {},
   "outputs": [],
   "source": []
  }
 ],
 "metadata": {
  "kernelspec": {
   "display_name": "Python 3 (ipykernel)",
   "language": "python",
   "name": "python3"
  },
  "language_info": {
   "codemirror_mode": {
    "name": "ipython",
    "version": 3
   },
   "file_extension": ".py",
   "mimetype": "text/x-python",
   "name": "python",
   "nbconvert_exporter": "python",
   "pygments_lexer": "ipython3",
   "version": "3.10.8"
  }
 },
 "nbformat": 4,
 "nbformat_minor": 5
}
