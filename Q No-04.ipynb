{
 "cells": [
  {
   "cell_type": "markdown",
   "id": "3490eb10-2c2d-42ee-b36e-654d57fdc5b2",
   "metadata": {},
   "source": [
    "Q.How do you write and execute a Python script from the command line?"
   ]
  },
  {
   "cell_type": "markdown",
   "id": "934b222c-2384-48af-afd1-f5ccf7a10cc8",
   "metadata": {},
   "source": [
    "Ans:"
   ]
  },
  {
   "cell_type": "markdown",
   "id": "20b3c263-6e38-4cce-9970-5fccfa6c2ac6",
   "metadata": {},
   "source": [
    "Step_01 :- Open Command Prompt"
   ]
  },
  {
   "cell_type": "raw",
   "id": "c489b373-056a-4db2-b656-fad75218d8e9",
   "metadata": {},
   "source": [
    "Microsoft Windows [Version 10.0.22621.1702]\n",
    "(c) Microsoft Corporation. All rights reserved.\n",
    "\n",
    "C:\\Users\\HP>"
   ]
  },
  {
   "cell_type": "markdown",
   "id": "ddd07ba5-18d7-46db-9943-9bb63f492d57",
   "metadata": {},
   "source": [
    "Step_02 :- type py and press Enter"
   ]
  },
  {
   "cell_type": "raw",
   "id": "719b810b-7861-4b5b-a69c-38efe221dbc3",
   "metadata": {},
   "source": [
    "Microsoft Windows [Version 10.0.22621.1702]\n",
    "(c) Microsoft Corporation. All rights reserved.\n",
    "\n",
    "C:\\Users\\HP>py\n",
    "Python 3.11.2 (tags/v3.11.2:878ead1, Feb  7 2023, 16:38:35) [MSC v.1934 64 bit (AMD64)] on win32\n",
    "Type \"help\", \"copyright\", \"credits\" or \"license\" for more information.\n",
    ">>> "
   ]
  },
  {
   "cell_type": "markdown",
   "id": "5bd57037-09f3-4b61-a614-85cf107a93f2",
   "metadata": {},
   "source": [
    "Step_03 :- Write the code you Want to execute and press Enter"
   ]
  },
  {
   "cell_type": "markdown",
   "id": "63da36d1-66dc-449d-926d-c06b3c3bafa8",
   "metadata": {},
   "source": [
    "For exampe - Wrire print(\"Hello, World!\") and press Enter"
   ]
  },
  {
   "cell_type": "raw",
   "id": "3dce0afc-6774-4142-b580-bb1e39d2924f",
   "metadata": {},
   "source": [
    "Microsoft Windows [Version 10.0.22621.1702]\n",
    "(c) Microsoft Corporation. All rights reserved.\n",
    "\n",
    "C:\\Users\\HP>py\n",
    "Python 3.11.2 (tags/v3.11.2:878ead1, Feb  7 2023, 16:38:35) [MSC v.1934 64 bit (AMD64)] on win32\n",
    "Type \"help\", \"copyright\", \"credits\" or \"license\" for more information.\n",
    ">>> print(\"Hello, World!\")\n",
    "Hello, World!\n",
    ">>>"
   ]
  }
 ],
 "metadata": {
  "kernelspec": {
   "display_name": "Python 3 (ipykernel)",
   "language": "python",
   "name": "python3"
  },
  "language_info": {
   "codemirror_mode": {
    "name": "ipython",
    "version": 3
   },
   "file_extension": ".py",
   "mimetype": "text/x-python",
   "name": "python",
   "nbconvert_exporter": "python",
   "pygments_lexer": "ipython3",
   "version": "3.10.8"
  }
 },
 "nbformat": 4,
 "nbformat_minor": 5
}
