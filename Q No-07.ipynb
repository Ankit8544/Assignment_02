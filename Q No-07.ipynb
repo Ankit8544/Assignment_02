{
 "cells": [
  {
   "cell_type": "markdown",
   "id": "8372bab3-7482-4634-ac66-a757e937b58f",
   "metadata": {},
   "source": [
    "Q.What is the correct way to declare a variable named age and assign the value 25 to it?"
   ]
  },
  {
   "cell_type": "markdown",
   "id": "74022a8b-8deb-4b7e-83cd-4bac48beb141",
   "metadata": {},
   "source": [
    "Ans:"
   ]
  },
  {
   "cell_type": "code",
   "execution_count": 5,
   "id": "6f2f3b99-4a9e-44d6-8e3b-33defc96d114",
   "metadata": {},
   "outputs": [],
   "source": [
    "age = 25"
   ]
  }
 ],
 "metadata": {
  "kernelspec": {
   "display_name": "Python 3 (ipykernel)",
   "language": "python",
   "name": "python3"
  },
  "language_info": {
   "codemirror_mode": {
    "name": "ipython",
    "version": 3
   },
   "file_extension": ".py",
   "mimetype": "text/x-python",
   "name": "python",
   "nbconvert_exporter": "python",
   "pygments_lexer": "ipython3",
   "version": "3.10.8"
  }
 },
 "nbformat": 4,
 "nbformat_minor": 5
}
