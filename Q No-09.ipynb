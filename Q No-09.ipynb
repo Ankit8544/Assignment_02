{
 "cells": [
  {
   "cell_type": "markdown",
   "id": "80a71838-78ac-4ca0-87ff-9905ca98367a",
   "metadata": {},
   "source": [
    "Q. Create a variable named name and assign your full name to it as a string. How would you print the\n",
    "value of this variable?"
   ]
  },
  {
   "cell_type": "code",
   "execution_count": 1,
   "id": "af3edebe-252f-42c9-964b-f0b5e491f7f5",
   "metadata": {},
   "outputs": [],
   "source": [
    "name = \"Ankit Kumar\""
   ]
  },
  {
   "cell_type": "markdown",
   "id": "4764a721-0d00-429e-b81e-166230924eed",
   "metadata": {},
   "source": [
    "Just recall the variable name to print variable value"
   ]
  },
  {
   "cell_type": "code",
   "execution_count": 2,
   "id": "4a460b4f-6a8e-4f61-925f-24e41ea6a248",
   "metadata": {},
   "outputs": [
    {
     "data": {
      "text/plain": [
       "'Ankit Kumar'"
      ]
     },
     "execution_count": 2,
     "metadata": {},
     "output_type": "execute_result"
    }
   ],
   "source": [
    "name"
   ]
  },
  {
   "cell_type": "code",
   "execution_count": null,
   "id": "5528fb80-9088-41b4-89f4-e2f97796001e",
   "metadata": {},
   "outputs": [],
   "source": []
  }
 ],
 "metadata": {
  "kernelspec": {
   "display_name": "Python 3 (ipykernel)",
   "language": "python",
   "name": "python3"
  },
  "language_info": {
   "codemirror_mode": {
    "name": "ipython",
    "version": 3
   },
   "file_extension": ".py",
   "mimetype": "text/x-python",
   "name": "python",
   "nbconvert_exporter": "python",
   "pygments_lexer": "ipython3",
   "version": "3.10.8"
  }
 },
 "nbformat": 4,
 "nbformat_minor": 5
}
