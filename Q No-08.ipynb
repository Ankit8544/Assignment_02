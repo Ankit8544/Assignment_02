{
 "cells": [
  {
   "cell_type": "markdown",
   "id": "e5a9be66-cff4-4886-a5a5-26137206ea1f",
   "metadata": {},
   "source": [
    "Q. Declare a variable named price and assign the value 9.99 to it. What data type does this variable\n",
    "belong to?"
   ]
  },
  {
   "cell_type": "markdown",
   "id": "c8ee66cc-646c-4d12-bc62-99f0adb751d6",
   "metadata": {},
   "source": [
    "Ans:"
   ]
  },
  {
   "cell_type": "code",
   "execution_count": 1,
   "id": "ce55f314-46ad-476a-b731-35e7eda6a107",
   "metadata": {},
   "outputs": [],
   "source": [
    "price = 9.99"
   ]
  },
  {
   "cell_type": "code",
   "execution_count": 2,
   "id": "22c70573-2085-4179-8486-e87df142782f",
   "metadata": {},
   "outputs": [
    {
     "data": {
      "text/plain": [
       "float"
      ]
     },
     "execution_count": 2,
     "metadata": {},
     "output_type": "execute_result"
    }
   ],
   "source": [
    "type(price)"
   ]
  },
  {
   "cell_type": "markdown",
   "id": "483d4b18-e592-4cf7-ba35-1b46e936b8b4",
   "metadata": {},
   "source": [
    "Here, Above data type of price variable belong to float "
   ]
  },
  {
   "cell_type": "code",
   "execution_count": null,
   "id": "ed245e50-fae7-4e7b-9189-08071bb3bffa",
   "metadata": {},
   "outputs": [],
   "source": []
  }
 ],
 "metadata": {
  "kernelspec": {
   "display_name": "Python 3 (ipykernel)",
   "language": "python",
   "name": "python3"
  },
  "language_info": {
   "codemirror_mode": {
    "name": "ipython",
    "version": 3
   },
   "file_extension": ".py",
   "mimetype": "text/x-python",
   "name": "python",
   "nbconvert_exporter": "python",
   "pygments_lexer": "ipython3",
   "version": "3.10.8"
  }
 },
 "nbformat": 4,
 "nbformat_minor": 5
}
