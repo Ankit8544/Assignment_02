{
 "cells": [
  {
   "cell_type": "markdown",
   "id": "8f004660-22bd-4bee-9af8-173713323d82",
   "metadata": {},
   "source": [
    "Q.Given a list my_list = [1,2,3, 4, 5], write the code to slice the list and obtain the sub-list [2,3]."
   ]
  },
  {
   "cell_type": "markdown",
   "id": "6bc692f2-9d85-4c57-900c-70e4eef4ba4b",
   "metadata": {},
   "source": [
    "Ans:"
   ]
  },
  {
   "cell_type": "code",
   "execution_count": 4,
   "id": "347fa04a-b80f-42c3-89c7-11f98602cbfc",
   "metadata": {},
   "outputs": [],
   "source": [
    "my_list = [1,2,3,4,5]"
   ]
  },
  {
   "cell_type": "code",
   "execution_count": 9,
   "id": "deb1c6d0-70e3-42ab-b252-b3c8b9d3417c",
   "metadata": {},
   "outputs": [
    {
     "data": {
      "text/plain": [
       "[2, 3]"
      ]
     },
     "execution_count": 9,
     "metadata": {},
     "output_type": "execute_result"
    }
   ],
   "source": [
    "my_list[1:3]"
   ]
  },
  {
   "cell_type": "code",
   "execution_count": null,
   "id": "df2d30b4-fb20-4d60-ac3d-08a428aa42b6",
   "metadata": {},
   "outputs": [],
   "source": []
  }
 ],
 "metadata": {
  "kernelspec": {
   "display_name": "Python 3 (ipykernel)",
   "language": "python",
   "name": "python3"
  },
  "language_info": {
   "codemirror_mode": {
    "name": "ipython",
    "version": 3
   },
   "file_extension": ".py",
   "mimetype": "text/x-python",
   "name": "python",
   "nbconvert_exporter": "python",
   "pygments_lexer": "ipython3",
   "version": "3.10.8"
  }
 },
 "nbformat": 4,
 "nbformat_minor": 5
}
